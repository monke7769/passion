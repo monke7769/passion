{
 "cells": [
  {
   "cell_type": "markdown",
   "metadata": {},
   "source": [
    "---\n",
    "toc: true\n",
    "comments: true\n",
    "layout: post\n",
    "title: Caesar Cipher!\n",
    "description: Caesar Ciphers are one of the simplest and most widely known encryption techniques in cryptography. In this module, we will explore the fundamentals of Caesar Ciphers and how they operate within the realm of encryption.\n",
    "type: plans\n",
    "---"
   ]
  },
  {
   "cell_type": "markdown",
   "metadata": {},
   "source": [
    "## 1. Introduction to Caesar Ciphers\n",
    "\n",
    "The first well known cipher was a substitution cipher. It was first used around 58 BC by Emperor Julius Caesar. He shifted each letter in his military commands in order to make them seem like gibberish, should they ever be intercepted."
   ]
  },
  {
   "cell_type": "markdown",
   "metadata": {},
   "source": [
    "## 2. Encryption & Decryption Process\n",
    "\n",
    "Say these two people Bob and Carla need to send and receive an encrypted message. They must each first agree on the variable key, which will be used as the shift in the message. \n",
    "Say the key is 2, so every letter will be shifted 2 down the alphabet (a->c, b->d, c->e, etc.)\n",
    "\n",
    "Original:  'I am hungry'  \n",
    "Encrypted: 'K co jwpita'\n",
    "\n",
    "Note that the last letter 'y' shifted down 2 units will wrap around the alphabet and give a result of 'a' (since we go y->z->a)\n",
    "\n",
    "Now the encrypted message is essentially gibberish. Only smart people can understand (are you smart?)\n",
    "\n",
    "And to decrypt this, we can just reverse the shift, so after Carla receives this encrypted message from Bob she can shift each letter back by 2 to get the original message that Bob sent. Very simple.\n",
    "\n",
    "Something to note is that the key is definitely not always 2. So if you intercepted Bob's message and didn't know what the key was, you'd have to do some trial and error with different values of the key to decode it. By that time, Bob will have eaten you up."
   ]
  },
  {
   "cell_type": "markdown",
   "metadata": {},
   "source": [
    "## 3. Strengths & Weaknesses\n",
    "\n",
    "Surprisingly, no one actually cracked the code in Caesar's time, and it wasn't until 800 years later than an Arab mathematician by the name of Al-Kindi broke the code by scanning letter frequencies in the language. He was the first to figure out the shift method used in the cipher. After this, the method was widely known and the cover of the famed Caesar cipher was blown.\n",
    "\n",
    "Today, nobody actually uses this cipher to encode messages. It is way too easy to crack, especially with powerful computers like we have today. But the cipher is probably the most important starting point in understanding Cryptography, and it would definitely make sense to start with this. "
   ]
  },
  {
   "cell_type": "markdown",
   "metadata": {},
   "source": [
    "## 4. Encryption practice\n",
    "\n",
    "Try to encrypt these messages with the Caesar Cipher based on the given key!"
   ]
  },
  {
   "cell_type": "markdown",
   "metadata": {},
   "source": [
    "## 5. Decryption practice\n",
    "\n",
    "Attempt to decrypt these messages that were encoded with the Caesar Cipher. This may be a challenge, but looking for letter frequencies may do the trick."
   ]
  },
  {
   "cell_type": "markdown",
   "metadata": {},
   "source": [
    "## 6. Quiz"
   ]
  }
 ],
 "metadata": {
  "language_info": {
   "name": "python"
  },
  "orig_nbformat": 4
 },
 "nbformat": 4,
 "nbformat_minor": 2
}
