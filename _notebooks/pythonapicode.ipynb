{
 "cells": [
  {
   "cell_type": "code",
   "execution_count": 5,
   "metadata": {},
   "outputs": [
    {
     "name": "stdout",
     "output_type": "stream",
     "text": [
      "{\"jsonrpc\":\"2.0\",\"result\":{\"random\":{\"data\":[12,6,24,17,7],\"completionTime\":\"2023-10-15 23:18:12Z\"},\"bitsUsed\":24,\"bitsLeft\":249781,\"requestsLeft\":990,\"advisoryDelay\":1380},\"id\":1}\n"
     ]
    }
   ],
   "source": [
    "import requests\n",
    "import json\n",
    "\n",
    "url = \"https://api.random.org/json-rpc/4/invoke\"\n",
    "\n",
    "payload = json.dumps({\n",
    "  \"jsonrpc\": \"2.0\",\n",
    "  \"method\": \"generateIntegers\",\n",
    "  \"params\": {\n",
    "    \"apiKey\": \"8b38ddfb-4f2b-4145-b8f3-0712c63a67ce\",\n",
    "    \"n\": 5,\n",
    "    \"min\": 1,\n",
    "    \"max\": 26\n",
    "  },\n",
    "  \"id\": 1\n",
    "})\n",
    "headers = {\n",
    "  'Content-Type': 'application/json',\n",
    "  'jsonrpc': '2.0',\n",
    "  'method': 'generateIntegers',\n",
    "  'params': '[object Object]',\n",
    "  'id': '1',\n",
    "  'Cookie': 'RDOSESSION=sm4h31thm5vv5j4afe2if81hi6; csrfToken=df91383eefe869664a47f374754278c8; __cflb=02DiuEMAZFhhWAbaKrF1fuSZexDk78ueybY4Jd5a5Z2YT'\n",
    "}\n",
    "\n",
    "response = requests.request(\"POST\", url, headers=headers, data=payload)\n",
    "\n",
    "print(response.text)\n"
   ]
  }
 ],
 "metadata": {
  "kernelspec": {
   "display_name": "Python 3",
   "language": "python",
   "name": "python3"
  },
  "language_info": {
   "codemirror_mode": {
    "name": "ipython",
    "version": 3
   },
   "file_extension": ".py",
   "mimetype": "text/x-python",
   "name": "python",
   "nbconvert_exporter": "python",
   "pygments_lexer": "ipython3",
   "version": "3.11.4"
  },
  "orig_nbformat": 4
 },
 "nbformat": 4,
 "nbformat_minor": 2
}
