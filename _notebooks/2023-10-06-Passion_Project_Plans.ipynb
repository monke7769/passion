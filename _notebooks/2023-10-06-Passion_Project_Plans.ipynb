{
 "cells": [
  {
   "cell_type": "markdown",
   "metadata": {},
   "source": [
    "---\n",
    "toc: true\n",
    "comments: true\n",
    "layout: post\n",
    "title: Passion Project Plan\n",
    "description: Cryptography \n",
    "type: plans\n",
    "---"
   ]
  },
  {
   "cell_type": "markdown",
   "metadata": {},
   "source": [
    "## Cryptography \n",
    "\n",
    "### Description\n",
    "\n",
    "The concept of making the Cryptography Set was drawn from our members' interest in encoding/decoding messages sent over connections through special methods, and be made into a competitive environment through \"Capture the Flag\" competitions in the cyberspace. This is generally known as Cryptography.\n",
    "\n",
    "### Purpose\n",
    "\n",
    "To spread general knowledge of Cryptography!\n",
    "We will include several sections (modules) for learning the different types of Ciphers and spread knowledge of ciphers to the world so that everyone can learn. \n",
    "\n",
    "We will include these sections:\n",
    ">> Caesar Ciphers (rot13)\n",
    ">> Vigenere Ciphers\n",
    ">> Substitution Ciphers\n",
    ">> Hexadecimal encoding\n",
    ">> SHA1 and SHA256 encryption\n",
    "\n",
    "Each section will have explanations of the ciphers, examples, and practice problems. \n",
    "\n",
    "Additionally, one of our bigger endeavors will be making an AI dedicated and trained to decipher any string of text, regardless of what cipher/hash was used to encrypt the information. The AI will also be able to encode user-given text based on whatever cipher the user wants (this is an easier task).\n",
    "\n",
    "### Technical Elements\n",
    "\n",
    "#### Frontend\n",
    "\n",
    "Frontend will be developed using a Github Pages site, including Utterances comments to be made available and JS Plugins. Each different module will be in its separate ipynb notebook file and be available from the frontpage for easy access.\n",
    "\n",
    "The Utterances comments will allow users to interact with each other on the site, somewhat like a forum, and ask/answer each other's questions. JS Plugins/CSS will make the site look more appealing in general, and allow addition of built-in quizzes to test user knowledge after reading through information in the modules.\n",
    "\n",
    "We will be using numerous buttons and text boxes as well on the site, made wth JS. Users can use these to input text and have options to encode/decode with specific ciphers/hashes. \n",
    "\n",
    "#### Backend\n",
    "\n",
    "As mentioned above, "
   ]
  }
 ],
 "metadata": {
  "language_info": {
   "name": "python"
  },
  "orig_nbformat": 4
 },
 "nbformat": 4,
 "nbformat_minor": 2
}
