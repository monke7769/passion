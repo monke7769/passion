{
 "cells": [
  {
   "cell_type": "markdown",
   "metadata": {},
   "source": [
    "---\n",
    "toc: true\n",
    "comments: true\n",
    "layout: post\n",
    "title: Substitution Cipher!\n",
    "description: Caesar Ciphers are a specific type of Substitution Cipher.\n",
    "type: plans\n",
    "---"
   ]
  },
  {
   "cell_type": "markdown",
   "metadata": {},
   "source": [
    "## 1. Introduction to Substitution Ciphers\n",
    "\n",
    "The first well known cipher was a substitution cipher. It was first used around 58 BC by Emperor Julius Caesar. He shifted each letter in his military commands in order to make them seem like gibberish, should they ever be intercepted."
   ]
  },
  {
   "cell_type": "markdown",
   "metadata": {},
   "source": [
    "## 2. Encryption & Decryption Process\n",
    "\n",
    "Suppose Alice and Bob need to send an encrypted message between the two of them. To do this with a substitution cipher, they must agree on a CIPHERTEXT ALPHABET, which gives the translation of every character into another set one, such that the CIPHERTEXT ALPHABET has the same number of characters as the original set of characters you are encrypting, and such that no two elements of the CIPHERTEXT ALPHABET are the same. \n",
    "Example:\n",
    "\n",
    "Original Alphabet \\\\ \n",
    "\"ABCDEFGHIJKLMNOPQRSTUVWXYZ\"\n",
    "\n",
    "CIPHERTEXT ALPHABET \\\\ \n",
    "\"ZYXWVUTSRQPONMLKJIHGFEDCBA\"\n",
    "\n",
    "This is probably the easiest and most simple substitution cipher to crack. Here, each letter is replaced with the one at the opposite end of the alphabet (A->Z, B->Y, etc... Z->A)\n",
    "\n",
    "Using this cipher, we can encode an example string \n",
    "\"END OF THE WORLD\"\n",
    "into\n",
    "\"VMW LU GSV DLIOW\"\n",
    "\n",
    "It's quite simple, though you might not be able to decrypt the encrypted string as easily, since there are 26! different substitution ciphers. But using modern computer tools, one can quite easily decode messages sent using substitution ciphers, so this essentially is rendered useless except as an easy-to-understand model and maybe to troll your teachers at school."
   ]
  },
  {
   "cell_type": "markdown",
   "metadata": {},
   "source": [
    "## 3. Python code to encode/decode the above case\n",
    "\n",
    "Note that A translates into Z, and Z translates into A, etc. in the above example. This means that \"VMW LU GSV DLIOW\" could be encoded into \"END OF THE WORLD\". So we can write a python code that both encodes/decodes strings of text as a single function switch()\n",
    "\n",
    "This code illustrates the basic algorithm for encoding a string using substitution"
   ]
  },
  {
   "cell_type": "code",
   "execution_count": null,
   "metadata": {},
   "outputs": [],
   "source": [
    "def switchsub(string):\n",
    "    new = '' # initialize new string\n",
    "    string = string.upper() # only use uppercase\n",
    "    for i in string: # take the characters one by one\n",
    "        newi = chr(155-ord(i)) # use ascii symmetry. ord and chr are ascii functions\n",
    "        new += newi\n",
    "    return new\n",
    "mystr = input(\"Enter your string to encode\")\n",
    "print(switchsub(mystr))"
   ]
  },
  {
   "cell_type": "markdown",
   "metadata": {},
   "source": [
    "## 4. Encryption practice\n",
    "\n",
    "Try to encrypt this message with the Substitution Cipher based on the given ciphertext alphabet!\n",
    "\n",
    "\n",
    "<div id=\"firstSection\">\n",
    "    <p>Original Alphabet:   \"ABCDEFGHIJKLMNOPQRSTUVWXYZ\"</p>\n",
    "    <p>Ciphertext Alphabet: \"OMGHAYDENBCFIJKLPQRSTUVWXZ\"</p>\n",
    "    <p>Message to encrypt: 'ITS JOVER GUYS'</p>\n",
    "    <p>This is a shifted ciphertext alphabet where OMGHAYDEN is inserted at the front, offsetting the remainder of the characters</p>\n",
    "    <input type=\"text\" id=\"userInput1\" placeholder=\"Encoded string here\">\n",
    "    <button onclick=\"validate1()\">Submit</button>\n",
    "    <p id=\"output1\"></p>\n",
    "</div>\n",
    "\n",
    "<script>\n",
    "function validate1() {\n",
    "    var userInput1 = document.getElementById(\"userInput1\").value\n",
    "    var result1 = document.getElementById(\"output1\")\n",
    "    if (userInput1 === \"NSR BKUAQ DTXR\") {\n",
    "        result1.innerText = \"Correct! Good job\"\n",
    "    } else {\n",
    "        result1.innerText = \"Incorrect, please try again\"\n",
    "    }\n",
    "}\n",
    "</script>"
   ]
  }
 ],
 "metadata": {
  "kernelspec": {
   "display_name": "Python 3",
   "language": "python",
   "name": "python3"
  },
  "language_info": {
   "codemirror_mode": {
    "name": "ipython",
    "version": 3
   },
   "file_extension": ".py",
   "mimetype": "text/x-python",
   "name": "python",
   "nbconvert_exporter": "python",
   "pygments_lexer": "ipython3",
   "version": "3.11.4"
  },
  "orig_nbformat": 4
 },
 "nbformat": 4,
 "nbformat_minor": 2
}
