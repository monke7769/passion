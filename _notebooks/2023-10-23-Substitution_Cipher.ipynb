{
 "cells": [
  {
   "cell_type": "markdown",
   "metadata": {},
   "source": [
    "---\n",
    "toc: true\n",
    "comments: true\n",
    "layout: post\n",
    "title: Substitution Cipher!\n",
    "description: Substitution Ciphers are \n",
    "type: plans\n",
    "---"
   ]
  },
  {
   "cell_type": "markdown",
   "metadata": {},
   "source": [
    "## 1. Introduction to Substitution Ciphers\n",
    "\n",
    "The first well known cipher was a substitution cipher. It was first used around 58 BC by Emperor Julius Caesar. He shifted each letter in his military commands in order to make them seem like gibberish, should they ever be intercepted."
   ]
  },
  {
   "cell_type": "markdown",
   "metadata": {},
   "source": [
    "## 2. Encryption & Decryption Process\n",
    "\n",
    "Suppose Alice and Bob need to send an encrypted message between the two of them. To do this with a substitution cipher, they must agree on a CIPHERTEXT ALPHABET, which gives the translation of every character into another set one, such that the CIPHERTEXT ALPHABET has the same number of characters as the original set of characters you are encrypting, and such that no two elements of the CIPHERTEXT ALPHABET are the same. \n",
    "Example:\n",
    "\n",
    "Original Alphabet \\\\ \n",
    "\"ABCDEFGHIJKLMNOPQRSTUVWXYZ\"\n",
    "\n",
    "CIPHERTEXT ALPHABET \\\\ \n",
    "\"ZYXWVUTSRQPONMLKJIHGFEDCBA\"\n",
    "\n",
    "This is probably the easiest and most simple substitution cipher to crack. Here, each letter is replaced with the one at the opposite end of the alphabet (A->Z, B->Y, etc... Z->A)\n",
    "\n",
    "Using this cipher, we can encode an example string \n",
    "\"END OF THE WORLD\"\n",
    "into\n",
    "\"VMW LU GSV DLIOW\"\n",
    "\n",
    "It's quite simple, though you might not be able to decrypt the encrypted string as easily, since there are 26! different substitution ciphers. But using modern computer tools, one can quite easily decode messages sent using substitution ciphers, so this essentially is rendered useless except as an easy-to-understand model and maybe to troll your teachers at school."
   ]
  },
  {
   "cell_type": "markdown",
   "metadata": {},
   "source": [
    "## 3. Python code to encode/decode the above case\n",
    "\n",
    "Note that A translates into Z, and Z translates into A, etc. in the above example. This means that \"VMW LU GSV DLIOW\" could be encoded into \"END OF THE WORLD\". So we can write a python code that both encodes/decodes strings of text as a single function switch()"
   ]
  }
 ],
 "metadata": {
  "language_info": {
   "name": "python"
  },
  "orig_nbformat": 4
 },
 "nbformat": 4,
 "nbformat_minor": 2
}
