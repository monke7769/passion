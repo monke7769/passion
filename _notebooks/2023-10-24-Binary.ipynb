{
 "cells": [
  {
   "cell_type": "markdown",
   "metadata": {},
   "source": [
    "---\n",
    "toc: True\n",
    "comments: True\n",
    "layout: post\n",
    "title: Binary Cipher!\n",
    "description: A binary cipher converts text characters into binary code, typically using the ASCII or Unicode representation where each character is represented by a unique binary sequence.\n",
    "type: plans\n",
    "permalink: /binarycipher\n",
    "---\n"
   ]
  }
 ],
 "metadata": {
  "language_info": {
   "name": "python"
  }
 },
 "nbformat": 4,
 "nbformat_minor": 2
}
