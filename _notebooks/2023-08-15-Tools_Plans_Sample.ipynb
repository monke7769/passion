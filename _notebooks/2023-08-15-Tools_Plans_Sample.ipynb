{
 "cells": [
  {
   "cell_type": "markdown",
   "metadata": {},
   "source": [
    "---\n",
    "toc: true\n",
    "comments: false\n",
    "layout: post\n",
    "title: Daily Plan Sample\n",
    "description: Example Blog!!!  This shows planning and notes from hacks.\n",
    "type: plans\n",
    "courses: { compsci: {week: 0} }\n",
    "---"
   ]
  },
  {
   "cell_type": "markdown",
   "metadata": {},
   "source": [
    "### PBL Unit 1 / Week 0\n",
    "Learning outcome.  Installing Tools and showing usage of VSCode.\n",
    "- Wednesday - Pick pair share partner, Pick crossover pair, Establish team of four.  Spend some time talking and getting to know each other, particularly with Computer Science experience and goals.  You should be matched with someone that has similar experience.\n",
    "- Thursday - Setup Tools on laptop and/or Cloud Computer.\n",
    "- Friday - Review and test as a Pair. Spend 25 minutes at one keyboard then switch for next 25 minutes.\n",
    "\n"
   ]
  }
 ],
 "metadata": {
  "language_info": {
   "name": "python"
  },
  "orig_nbformat": 4
 },
 "nbformat": 4,
 "nbformat_minor": 2
}
