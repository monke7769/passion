{
 "cells": [
  {
   "cell_type": "markdown",
   "metadata": {},
   "source": [
    "---\n",
    "toc: True\n",
    "comments: True\n",
    "layout: post\n",
    "title: Hexadecimal Cipher!\n",
    "description: A hexadecimal cipher involves converting text characters into hexadecimal values, usually representing each character by two hexadecimal digits that correspond to the character's ASCII or Unicode value.\n",
    "type: plans\n",
    "permalink: /hexcipher\n",
    "---\n"
   ]
  },
  {
   "cell_type": "code",
   "execution_count": null,
   "metadata": {
    "vscode": {
     "languageId": "plaintext"
    }
   },
   "outputs": [],
   "source": []
  }
 ],
 "metadata": {
  "language_info": {
   "name": "python"
  }
 },
 "nbformat": 4,
 "nbformat_minor": 2
}
