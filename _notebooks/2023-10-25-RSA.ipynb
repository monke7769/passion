{
 "cells": [
  {
   "cell_type": "markdown",
   "metadata": {},
   "source": [
    "---\n",
    "toc: true\n",
    "comments: true\n",
    "layout: post\n",
    "title: RSA\n",
    "description: Hashing!\n",
    "type: plans\n",
    "---"
   ]
  },
  {
   "cell_type": "markdown",
   "metadata": {},
   "source": [
    "## 1. Introduction to RSA\n",
    "\n",
    "RSA, named after its inventors Rivest, Shamir, and Adleman, is a popular encryption algorithm that ensures secure online communication. It relies on the difficulty of factoring large composite numbers into their prime factors. "
   ]
  },
  {
   "cell_type": "markdown",
   "metadata": {},
   "source": [
    "## 2. Note on phi\n",
    "\n",
    "phi(n) for a positive integer n is defined as the number of positive integers less than n, relatively prime to n (do not share any common factors other than 1).\n",
    "\n",
    "For a prime p, this can be easily defined as phi(p)=p-1 since all numbers from 1 though p-1 are relatively prime to p. For two primes p and q, phi(pq)=(p-1)(q-1)."
   ]
  },
  {
   "cell_type": "markdown",
   "metadata": {},
   "source": [
    "## 3. Encryption & Decryption Process\n",
    "\n",
    "RSA implementation makes heavy use of modular arithmetic as well as advanced number theory properties including Euler's Totient function, phi.\n",
    "\n",
    "The implementation is quite easy to perform with a computer given its only requiring multiplication.\n",
    "\n",
    "Alice needs to send a message to Bob. Bob, the receiver, chooses two large prime numbers p and q. The product n=pq will comprise half of the PUBLIC KEY.\n",
    "\n",
    "Bob calculates phi(pq)=(p-1)(q-1) and chooses some number e relatively prime to phi(pq). Usually e=2^16+1=65537 but it can be as small as 3. e will comprise the other half of the PUBLIC KEY.\n",
    "\n",
    "Bob then calculates the modular inverse, d, of e modulo phi(pq). Then means that de is congruent to 1 modulo phi(pq). (The remainder when de is divided by phi(pq) is 1)\n",
    "\n",
    "Bob will distribute both parts n and e of the PUBLIC KEY, while d, the PRIVATE KEY, will be kept secret."
   ]
  }
 ],
 "metadata": {
  "language_info": {
   "name": "python"
  },
  "orig_nbformat": 4
 },
 "nbformat": 4,
 "nbformat_minor": 2
}
