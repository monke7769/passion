{
 "cells": [
  {
   "cell_type": "markdown",
   "metadata": {},
   "source": [
    "---\n",
    "toc: true\n",
    "comments: true\n",
    "layout: post\n",
    "title: RSA\n",
    "description: Hashing!\n",
    "type: plans\n",
    "---"
   ]
  },
  {
   "cell_type": "markdown",
   "metadata": {},
   "source": [
    "## 1. Introduction to RSA\n",
    "\n",
    "RSA, named after its inventors Rivest, Shamir, and Adleman, is a popular encryption algorithm that ensures secure online communication. It relies on the difficulty of factoring large composite numbers into their prime factors. "
   ]
  },
  {
   "cell_type": "markdown",
   "metadata": {},
   "source": [
    "## 2. Note on phi\n",
    "\n",
    "phi(n) for a positive integer n is defined as the number of positive integers less than n, relatively prime to n (do not share any common factors other than 1).\n",
    "\n",
    "For a prime p, this can be easily defined as phi(p)=p-1 since all numbers from 1 though p-1 are relatively prime to p. For two primes p and q, phi(pq)=(p-1)(q-1)."
   ]
  },
  {
   "cell_type": "markdown",
   "metadata": {},
   "source": [
    "## 3. Encryption & Decryption Process\n",
    "\n",
    "RSA implementation makes heavy use of modular arithmetic as well as advanced number theory properties including Euler's Totient function, phi.\n",
    "\n",
    "The implementation is quite easy to perform with a computer given its only requiring multiplication.\n",
    "\n",
    "Alice needs to send a message to Bob. Bob, the receiver, chooses two large prime numbers p and q. The product n=pq will comprise half of the PUBLIC KEY.\n",
    "\n",
    "Bob calculates phi(pq)=(p-1)(q-1) and chooses some number e relatively prime to phi(pq). Usually e=2^16+1=65537 but it can be as small as 3. e will comprise the other half of the PUBLIC KEY.\n",
    "\n",
    "Bob then calculates the modular inverse, d, of e modulo phi(pq). Then means that de is congruent to 1 modulo phi(pq). (The remainder when de is divided by phi(pq) is 1)\n",
    "\n",
    "Bob will distribute both parts n and e of the PUBLIC KEY, while d, the PRIVATE KEY, will be kept secret.\n",
    "\n",
    "Alice, the sender, will convert her message into a number m, using the ASCII alphabet, converting each character one by one. She then calculates c, which is congruent to m^e, modulo n. This is the final encrypted message. If the message were to be sent over a connection, the only information an attacker would be able to glean would be this and the public key (originally made available to everyone).\n",
    "\n",
    "Bob receives the message c (ciphertext), and computes c^d modulo n to retreive the original message as a string of numbers, at which point he can convert back into letters using ASCII. \n",
    "\n",
    "Note that this is quite secure as long as Bob does not expose his PRIVATE KEY, d. d is the only way that anyone will be able to decrypt the message. Without it, anyone who intercepts the message will have a lot of brute forcing to do. Sophisticated computers can take upwards of days to crack a message sent with RSA. Very secure!"
   ]
  },
  {
   "cell_type": "markdown",
   "metadata": {},
   "source": [
    "## 4. Practice Problems & Check for Understanding\n",
    "\n",
    "It may be too difficult to crack messages sent using RSA, but it's great to know how the steps of the encryption method work.\n",
    "\n",
    "<div id=\"1\">\n",
    "    <p>1. If p=11 and q=13, find phi(n), for n=pq.</p>\n",
    "    <input type=\"text\" id=\"userInput1\" placeholder=\"Answer\">\n",
    "    <button onclick=\"validate1()\">Submit</button>\n",
    "    <p id=\"output1\"></p>\n",
    "</div>\n",
    "\n",
    "<script>\n",
    "function validate1() {\n",
    "    var userInput1 = document.getElementById(\"userInput1\").value\n",
    "    var result1 = document.getElementById(\"output1\")\n",
    "    if (userInput1 === \"120\") {\n",
    "        result1.innerText = \"Correct!\"\n",
    "    } else {\n",
    "        result1.innerText = \"Incorrect, please try again\"\n",
    "    }\n",
    "}\n",
    "</script>\n",
    "\n",
    "<div id=\"2\">\n",
    "    <p>2. Alice wants to send a message to Bob. If the first word she wants to send is \"POOPYPANTS\", find m, the ASCII-converted number.</p>\n",
    "    <input type=\"text\" id=\"userInput2\" placeholder=\"Answer\">\n",
    "    <button onclick=\"validate2()\">Submit</button>\n",
    "    <p id=\"output2\"></p>\n",
    "</div>\n",
    "\n",
    "<script>\n",
    "function validate2() {\n",
    "    var userInput2 = document.getElementById(\"userInput2\").value\n",
    "    var result2 = document.getElementById(\"output2\")\n",
    "    if (userInput2 === \"80797980898065788483\") {\n",
    "        result2.innerText = \"Correct!\"\n",
    "    } else {\n",
    "        result2.innerText = \"Incorrect, please try again\"\n",
    "    }\n",
    "}\n",
    "</script>\n",
    "\n",
    "<div id=\"3\">\n",
    "    <p>3. Given the answer from problem 2, find c, the message sent over the connection, if the value of e is 3 and the value of n is the same as in problem 1.</p>\n",
    "    <input type=\"text\" id=\"userInput3\" placeholder=\"Answer\">\n",
    "    <button onclick=\"validate3()\">Submit</button>\n",
    "    <p id=\"output3\"></p>\n",
    "</div>\n",
    "\n",
    "<script>\n",
    "function validate3() {\n",
    "    var userInput3 = document.getElementById(\"userInput3\").value\n",
    "    var result3 = document.getElementById(\"output3\")\n",
    "    if (userInput3 === \"92\") {\n",
    "        result3.innerText = \"Correct!\"\n",
    "    } else {\n",
    "        result3.innerText = \"Incorrect, please try again\"\n",
    "    }\n",
    "}\n",
    "</script>"
   ]
  }
 ],
 "metadata": {
  "language_info": {
   "name": "python"
  },
  "orig_nbformat": 4
 },
 "nbformat": 4,
 "nbformat_minor": 2
}
